{
  "nbformat": 4,
  "nbformat_minor": 0,
  "metadata": {
    "colab": {
      "provenance": [],
      "include_colab_link": true
    },
    "kernelspec": {
      "name": "python3",
      "display_name": "Python 3"
    },
    "accelerator": "GPU",
    "gpuClass": "standard"
  },
  "cells": [
    {
      "cell_type": "markdown",
      "metadata": {
        "id": "view-in-github",
        "colab_type": "text"
      },
      "source": [
        "<a href=\"https://colab.research.google.com/github/febrahim-driod/hello-world/blob/master/notebook/Yolov8_Segmentation.ipynb\" target=\"_parent\"><img src=\"https://colab.research.google.com/assets/colab-badge.svg\" alt=\"Open In Colab\"/></a>"
      ]
    },
    {
      "cell_type": "markdown",
      "metadata": {
        "id": "t6MPjfT5NrKQ"
      },
      "source": []
    },
    {
      "cell_type": "markdown",
      "metadata": {
        "id": "7mGmQbAO5pQb"
      },
      "source": [
        "# Setup\n",
        "\n",
        "Pip install `ultralytics` and [dependencies](https://github.com/ultralytics/ultralytics/blob/main/requirements.txt) and check software and hardware."
      ]
    },
    {
      "cell_type": "code",
      "metadata": {
        "id": "wbvMlHd_QwMG",
        "colab": {
          "base_uri": "https://localhost:8080/"
        },
        "outputId": "1ffa83bf-07b1-4f6d-c97c-610b2bee4829"
      },
      "source": [
        "%pip install ultralytics\n",
        "import ultralytics\n",
        "ultralytics.checks()\n",
        "!pip install roboflow --quiet\n",
        "!pip install clearml --quiet"
      ],
      "execution_count": 1,
      "outputs": [
        {
          "output_type": "stream",
          "name": "stderr",
          "text": [
            "Ultralytics YOLOv8.0.75 🚀 Python-3.9.16 torch-2.0.0+cu118 CUDA:0 (Tesla T4, 15102MiB)\n",
            "Setup complete ✅ (2 CPUs, 12.7 GB RAM, 23.4/78.2 GB disk)\n"
          ]
        }
      ]
    },
    {
      "cell_type": "code",
      "source": [
        "import os\n",
        "from IPython.display import Image, display\n",
        "import glob\n",
        "from clearml import Task\n",
        "\n",
        "HOME = os.getcwd()\n",
        "print(HOME)"
      ],
      "metadata": {
        "id": "DTjhFMyhdWSb",
        "colab": {
          "base_uri": "https://localhost:8080/"
        },
        "outputId": "a7c3edc6-fa8f-4b2d-f3f7-e597886836e7"
      },
      "execution_count": 2,
      "outputs": [
        {
          "output_type": "stream",
          "name": "stdout",
          "text": [
            "/content\n"
          ]
        }
      ]
    },
    {
      "cell_type": "code",
      "source": [
        "#model_type='detection'\n",
        "model_type='body_parts'\n",
        "#model_type='severity'\n",
        "#model_type='damage_type'\n",
        "\n",
        "WEIGHTS_PATH = f\"{HOME}/yolov8l-seg.pt\"\n",
        "TASK='segment'\n",
        "IMGSZ=640\n",
        "BATCH_SIZE=16\n",
        "WORKERS=8\n",
        "PATIENCE=10\n",
        "\n",
        "#roboflow\n",
        "#workspace=\"sinfo\"\n",
        "#workspace=\"fizzy\"\n",
        "workspace=\"ae-43fv6\"\n",
        "\n",
        "if model_type==\"detection\":\n",
        "   EPOCH=30\n",
        "   PROJECT_NAME=\"yolov8_damage_detection\"\n",
        "   RUN_NAME=\"train_seg_\"+str(EPOCH)+\"_epoch\"\n",
        "elif model_type==\"body_parts\":\n",
        "   EPOCH=100\n",
        "   PROJECT_NAME=\"yolov8_body_parts\"\n",
        "   RUN_NAME=\"train_seg_\"+str(EPOCH)+\"_epoch\"\n",
        "elif model_type==\"severity\":\n",
        "   EPOCH=100\n",
        "   PROJECT_NAME=\"yolov8_severity\"\n",
        "   RUN_NAME=\"train_seg_\"+str(EPOCH)+\"_epoch\"\n",
        "elif model_type==\"damage_type\":\n",
        "   EPOCH=50\n",
        "   PROJECT_NAME=\"yolov8_damage_type\"\n",
        "   RUN_NAME=\"train_seg_\"+str(EPOCH)+\"_epoch\"\n",
        "   "
      ],
      "metadata": {
        "id": "tp60Ei_Aa_t7"
      },
      "execution_count": 3,
      "outputs": []
    },
    {
      "cell_type": "code",
      "source": [
        "from roboflow import Roboflow\n",
        "\n",
        "if workspace==\"sinfo\":\n",
        "  apikey=\"P5E6JhfkeiA1nAdZAWnB\" #Github\n",
        "if workspace==\"fizzy\":             \n",
        "  apikey=\"BY0NkaVcAVgAKtFokphd\" #Ayesha Ibrahim\n",
        "if workspace==\"ae-43fv6\":\n",
        "  apikey=\"4Bp3oYulJzO2eVypsB2l\" #Ayesha Ebrahim\n",
        "\n",
        "\n",
        "rf = Roboflow(api_key=apikey)\n",
        "if model_type==\"detection\":\n",
        "  if workspace==\"sinfo\":\n",
        "    project = rf.workspace(workspace).project(\"car_damage-4xqh8\")\n",
        "    dataset = project.version(6).download(\"yolov8\")\n",
        "    DATA_FOLDER='car_damage-6'\n",
        "  DATA_YAML_PATH= f\"{HOME}/{DATA_FOLDER}/data.yaml\"\n",
        "elif model_type==\"body_parts\":\n",
        "  if workspace==\"sinfo\":\n",
        "    project = rf.workspace(workspace).project(\"car-body-parts-p025a\")\n",
        "    dataset = project.version(5).download(\"yolov8\")\n",
        "    DATA_FOLDER='car-body-parts-5'\n",
        "  elif workspace==\"ae-43fv6\": \n",
        "    project = rf.workspace(\"ae-43fv6\").project(\"body-parts-cq3al\")\n",
        "    dataset = project.version(1).download(\"yolov8\")\n",
        "    DATA_FOLDER='Body-Parts-1'\n",
        "  DATA_YAML_PATH= f\"{HOME}/{DATA_FOLDER}/data.yaml\"\n",
        "elif model_type==\"severity\":\n",
        "  if workspace==\"sinfo\":\n",
        "    project = rf.workspace(workspace).project(\"car-damage-severity\")\n",
        "    dataset = project.version(2).download(\"yolov8\")\n",
        "    DATA_FOLDER='car-damage-severity-2'\n",
        "  elif workspace==\"ae-43fv6\":\n",
        "    project = rf.workspace(workspace).project(\"damage-severity\")\n",
        "    dataset = project.version(1).download(\"yolov8\")\n",
        "    DATA_FOLDER='Damage-Severity-1'\n",
        "  DATA_YAML_PATH= f\"{HOME}/{DATA_FOLDER}/data.yaml\"\n",
        "elif model_type==\"damage_type\":\n",
        "  if workspace==\"sinfo\":\n",
        "    project = rf.workspace(workspace).project(\"car-damage-type\")\n",
        "    dataset = project.version(1).download(\"yolov8\")\n",
        "    DATA_FOLDER='car-damage-type-1'\n",
        "  elif  workspace==\"fizzy\":\n",
        "    project = rf.workspace(workspace).project(\"damage-type-nbmqw\")\n",
        "    dataset = project.version(3).download(\"yolov8\")\n",
        "    DATA_FOLDER='Damage-Type-3'\n",
        "  elif workspace==\"ae-43fv6\":\n",
        "    project = rf.workspace(workspace).project(\"damage-type-nogzj\")\n",
        "    dataset = project.version(4).download(\"yolov8\")\n",
        "    DATA_FOLDER='Damage-Type-4'\n",
        "  DATA_YAML_PATH= f\"{HOME}/{DATA_FOLDER}/data.yaml\"\n"
      ],
      "metadata": {
        "id": "-6KSPpfndo2m",
        "colab": {
          "base_uri": "https://localhost:8080/"
        },
        "outputId": "a21df81c-aaaa-4772-9c09-ec25c3eee8f4"
      },
      "execution_count": 4,
      "outputs": [
        {
          "output_type": "stream",
          "name": "stdout",
          "text": [
            "loading Roboflow workspace...\n",
            "loading Roboflow project...\n",
            "Dependency ultralytics<=8.0.20 is required but found version=8.0.75, to fix: `pip install ultralytics<=8.0.20`\n",
            "Downloading Dataset Version Zip in Body-Parts-1 to yolov8: 100% [65097075 / 65097075] bytes\n"
          ]
        },
        {
          "output_type": "stream",
          "name": "stderr",
          "text": [
            "Extracting Dataset Version Zip to Body-Parts-1 in yolov8:: 100%|██████████| 2460/2460 [00:01<00:00, 1979.10it/s]\n"
          ]
        }
      ]
    },
    {
      "cell_type": "code",
      "source": [
        "\n",
        "\n",
        "%env CLEARML_WEB_HOST=https://app.clear.ml\n",
        "%env CLEARML_API_HOST=https://api.clear.ml\n",
        "%env CLEARML_FILES_HOST=https://files.clear.ml\n",
        "# colob_notebook\n",
        "%env CLEARML_API_ACCESS_KEY=AMY0O903Z5A7KN5FETFJ\n",
        "%env CLEARML_API_SECRET_KEY=y7hUwY62xMFWwADGFWzKd33C2b8C4f1AxTDymedak5lQFzmbJg\n",
        "\n",
        "task = Task.init(project_name=PROJECT_NAME, task_name=RUN_NAME)\n"
      ],
      "metadata": {
        "id": "qDxE57EKe8VR",
        "colab": {
          "base_uri": "https://localhost:8080/"
        },
        "outputId": "d76dc84a-35a4-44dc-c066-08222bb5a543"
      },
      "execution_count": 5,
      "outputs": [
        {
          "output_type": "stream",
          "name": "stdout",
          "text": [
            "env: CLEARML_WEB_HOST=https://app.clear.ml\n",
            "env: CLEARML_API_HOST=https://api.clear.ml\n",
            "env: CLEARML_FILES_HOST=https://files.clear.ml\n",
            "env: CLEARML_API_ACCESS_KEY=AMY0O903Z5A7KN5FETFJ\n",
            "env: CLEARML_API_SECRET_KEY=y7hUwY62xMFWwADGFWzKd33C2b8C4f1AxTDymedak5lQFzmbJg\n",
            "ClearML Task: created new task id=20f48667b65c45e48a2983d528315605\n",
            "2023-04-13 01:33:32,377 - clearml.Task - INFO - Storing jupyter notebook directly as code\n"
          ]
        },
        {
          "output_type": "stream",
          "name": "stderr",
          "text": [
            "WARNING:tensorflow:Please fix your imports. Module tensorflow.python.training.tracking.util has been moved to tensorflow.python.checkpoint.checkpoint. The old module will be deleted in version 2.11.\n"
          ]
        },
        {
          "output_type": "stream",
          "name": "stdout",
          "text": [
            "ClearML results page: https://app.clear.ml/projects/f7721afb9008472094d75f5b4d8d4667/experiments/20f48667b65c45e48a2983d528315605/output/log\n"
          ]
        }
      ]
    },
    {
      "cell_type": "code",
      "metadata": {
        "id": "zR9ZbuQCH7FX"
      },
      "source": [
        "# Run inference on an image with YOLOv8n-seg\n",
        "#!yolo predict model=yolov8l-seg.pt source='https://ultralytics.com/images/zidane.jpg' box=False"
      ],
      "execution_count": 6,
      "outputs": []
    },
    {
      "cell_type": "markdown",
      "metadata": {
        "id": "ZY2VXXXu74w5"
      },
      "source": [
        "# 3. Train\n",
        "\n",
        "<p align=\"\"><a href=\"https://roboflow.com/?ref=ultralytics\"><img width=\"1000\" src=\"https://github.com/ultralytics/assets/raw/main/yolov8/banner-integrations.png\"/></a></p>\n",
        "\n"
      ]
    },
    {
      "cell_type": "code",
      "metadata": {
        "id": "1NcFxRcFdJ_O",
        "colab": {
          "base_uri": "https://localhost:8080/"
        },
        "outputId": "fc646d77-9c12-4ba1-ebe4-b3c10fac3993"
      },
      "source": [
        "# Train YOLOv8l on Custom Data\n",
        "!yolo mode=train \\\n",
        "      model=$WEIGHTS_PATH \\\n",
        "      data=$DATA_YAML_PATH \\\n",
        "      epochs=$EPOCH \\\n",
        "      imgsz=$IMGSZ \\\n",
        "      task=$TASK \\\n",
        "      project=$PROJECT_NAME \\\n",
        "      name=$RUN_NAME \\\n",
        "      batch=$BATCH_SIZE \\\n",
        "      workers=$WORKERS    "
      ],
      "execution_count": null,
      "outputs": [
        {
          "output_type": "stream",
          "name": "stdout",
          "text": [
            "Ultralytics YOLOv8.0.75 🚀 Python-3.9.16 torch-2.0.0+cu118 CUDA:0 (Tesla T4, 15102MiB)\n",
            "\u001b[34m\u001b[1myolo/engine/trainer: \u001b[0mtask=segment, mode=train, model=/content/yolov8l-seg.pt, data=/content/Body-Parts-1/data.yaml, epochs=50, patience=50, batch=16, imgsz=640, save=True, save_period=-1, cache=False, device=None, workers=8, project=yolov8_body_parts, name=train_seg_50_epoch, exist_ok=False, pretrained=False, optimizer=SGD, verbose=True, seed=0, deterministic=True, single_cls=False, image_weights=False, rect=False, cos_lr=False, close_mosaic=0, resume=False, amp=True, overlap_mask=True, mask_ratio=4, dropout=0.0, val=True, split=val, save_json=False, save_hybrid=False, conf=None, iou=0.7, max_det=300, half=False, dnn=False, plots=True, source=None, show=False, save_txt=False, save_conf=False, save_crop=False, show_labels=True, show_conf=True, vid_stride=1, line_thickness=3, visualize=False, augment=False, agnostic_nms=False, classes=None, retina_masks=False, boxes=True, format=torchscript, keras=False, optimize=False, int8=False, dynamic=False, simplify=False, opset=None, workspace=4, nms=False, lr0=0.01, lrf=0.01, momentum=0.937, weight_decay=0.0005, warmup_epochs=3.0, warmup_momentum=0.8, warmup_bias_lr=0.1, box=7.5, cls=0.5, dfl=1.5, pose=12.0, kobj=1.0, label_smoothing=0.0, nbs=64, hsv_h=0.015, hsv_s=0.7, hsv_v=0.4, degrees=0.0, translate=0.1, scale=0.5, shear=0.0, perspective=0.0, flipud=0.0, fliplr=0.5, mosaic=1.0, mixup=0.0, copy_paste=0.0, cfg=None, v5loader=False, tracker=botsort.yaml, save_dir=yolov8_body_parts/train_seg_50_epoch\n",
            "Overriding model.yaml nc=80 with nc=16\n",
            "\n",
            "                   from  n    params  module                                       arguments                     \n",
            "  0                  -1  1      1856  ultralytics.nn.modules.Conv                  [3, 64, 3, 2]                 \n",
            "  1                  -1  1     73984  ultralytics.nn.modules.Conv                  [64, 128, 3, 2]               \n",
            "  2                  -1  3    279808  ultralytics.nn.modules.C2f                   [128, 128, 3, True]           \n",
            "  3                  -1  1    295424  ultralytics.nn.modules.Conv                  [128, 256, 3, 2]              \n",
            "  4                  -1  6   2101248  ultralytics.nn.modules.C2f                   [256, 256, 6, True]           \n",
            "  5                  -1  1   1180672  ultralytics.nn.modules.Conv                  [256, 512, 3, 2]              \n",
            "  6                  -1  6   8396800  ultralytics.nn.modules.C2f                   [512, 512, 6, True]           \n",
            "  7                  -1  1   2360320  ultralytics.nn.modules.Conv                  [512, 512, 3, 2]              \n",
            "  8                  -1  3   4461568  ultralytics.nn.modules.C2f                   [512, 512, 3, True]           \n",
            "  9                  -1  1    656896  ultralytics.nn.modules.SPPF                  [512, 512, 5]                 \n",
            " 10                  -1  1         0  torch.nn.modules.upsampling.Upsample         [None, 2, 'nearest']          \n",
            " 11             [-1, 6]  1         0  ultralytics.nn.modules.Concat                [1]                           \n",
            " 12                  -1  3   4723712  ultralytics.nn.modules.C2f                   [1024, 512, 3]                \n",
            " 13                  -1  1         0  torch.nn.modules.upsampling.Upsample         [None, 2, 'nearest']          \n",
            " 14             [-1, 4]  1         0  ultralytics.nn.modules.Concat                [1]                           \n",
            " 15                  -1  3   1247744  ultralytics.nn.modules.C2f                   [768, 256, 3]                 \n",
            " 16                  -1  1    590336  ultralytics.nn.modules.Conv                  [256, 256, 3, 2]              \n",
            " 17            [-1, 12]  1         0  ultralytics.nn.modules.Concat                [1]                           \n",
            " 18                  -1  3   4592640  ultralytics.nn.modules.C2f                   [768, 512, 3]                 \n",
            " 19                  -1  1   2360320  ultralytics.nn.modules.Conv                  [512, 512, 3, 2]              \n",
            " 20             [-1, 9]  1         0  ultralytics.nn.modules.Concat                [1]                           \n",
            " 21                  -1  3   4723712  ultralytics.nn.modules.C2f                   [1024, 512, 3]                \n",
            " 22        [15, 18, 21]  1   7901344  ultralytics.nn.modules.Segment               [16, 32, 256, [256, 512, 512]]\n",
            "YOLOv8l-seg summary: 401 layers, 45948384 parameters, 45948368 gradients, 220.9 GFLOPs\n",
            "\n",
            "Transferred 651/657 items from pretrained weights\n",
            "WARNING:tensorflow:Please fix your imports. Module tensorflow.python.training.tracking.util has been moved to tensorflow.python.checkpoint.checkpoint. The old module will be deleted in version 2.11.\n",
            "\u001b[34m\u001b[1mTensorBoard: \u001b[0mStart with 'tensorboard --logdir yolov8_body_parts/train_seg_50_epoch', view at http://localhost:6006/\n",
            "\u001b[34m\u001b[1mAMP: \u001b[0mrunning Automatic Mixed Precision (AMP) checks with YOLOv8n...\n",
            "WARNING ⚠️ 'Boxes.boxes' is deprecated. Use 'Boxes.data' instead.\n",
            "WARNING ⚠️ 'Boxes.boxes' is deprecated. Use 'Boxes.data' instead.\n",
            "\u001b[34m\u001b[1mAMP: \u001b[0mchecks passed ✅\n",
            "\u001b[34m\u001b[1moptimizer:\u001b[0m SGD(lr=0.01) with parameter groups 106 weight(decay=0.0), 117 weight(decay=0.0005), 116 bias\n",
            "\u001b[34m\u001b[1mtrain: \u001b[0mScanning /content/Body-Parts-1/train/labels... 1093 images, 0 backgrounds, 0 corrupt: 100% 1093/1093 [00:00<00:00, 1187.36it/s]\n",
            "\u001b[34m\u001b[1mtrain: \u001b[0mNew cache created: /content/Body-Parts-1/train/labels.cache\n",
            "\u001b[34m\u001b[1malbumentations: \u001b[0mBlur(p=0.01, blur_limit=(3, 7)), MedianBlur(p=0.01, blur_limit=(3, 7)), ToGray(p=0.01), CLAHE(p=0.01, clip_limit=(1, 4.0), tile_grid_size=(8, 8))\n",
            "\u001b[34m\u001b[1mval: \u001b[0mScanning /content/Body-Parts-1/valid/labels... 90 images, 1 backgrounds, 0 corrupt: 100% 90/90 [00:00<00:00, 753.44it/s]\n",
            "\u001b[34m\u001b[1mval: \u001b[0mNew cache created: /content/Body-Parts-1/valid/labels.cache\n",
            "Plotting labels to yolov8_body_parts/train_seg_50_epoch/labels.jpg... \n",
            "Image sizes 640 train, 640 val\n",
            "Using 2 dataloader workers\n",
            "Logging results to \u001b[1myolov8_body_parts/train_seg_50_epoch\u001b[0m\n",
            "Starting training for 50 epochs...\n",
            "\n",
            "      Epoch    GPU_mem   box_loss   seg_loss   cls_loss   dfl_loss  Instances       Size\n",
            "       1/50      11.9G      1.019      3.132      2.843      1.413         54        640: 100% 69/69 [01:29<00:00,  1.30s/it]\n",
            "                 Class     Images  Instances      Box(P          R      mAP50  mAP50-95)     Mask(P          R      mAP50  mAP50-95): 100% 3/3 [00:04<00:00,  1.37s/it]\n",
            "                   all         90        444      0.537      0.487        0.5      0.361      0.515      0.464      0.463      0.318\n",
            "\n",
            "      Epoch    GPU_mem   box_loss   seg_loss   cls_loss   dfl_loss  Instances       Size\n",
            "       2/50      12.4G     0.7687      2.121      1.223      1.161         97        640: 100% 69/69 [01:21<00:00,  1.19s/it]\n",
            "                 Class     Images  Instances      Box(P          R      mAP50  mAP50-95)     Mask(P          R      mAP50  mAP50-95): 100% 3/3 [00:03<00:00,  1.30s/it]\n",
            "                   all         90        444      0.677      0.611       0.64      0.467      0.656      0.589      0.606      0.407\n",
            "\n",
            "      Epoch    GPU_mem   box_loss   seg_loss   cls_loss   dfl_loss  Instances       Size\n",
            "       3/50      12.3G     0.7524      1.948      1.043      1.132         61        640: 100% 69/69 [01:19<00:00,  1.15s/it]\n",
            "                 Class     Images  Instances      Box(P          R      mAP50  mAP50-95)     Mask(P          R      mAP50  mAP50-95): 100% 3/3 [00:04<00:00,  1.41s/it]\n",
            "                   all         90        444      0.524      0.622      0.589      0.416      0.504        0.6      0.549       0.36\n",
            "\n",
            "      Epoch    GPU_mem   box_loss   seg_loss   cls_loss   dfl_loss  Instances       Size\n",
            "       4/50      12.5G     0.7735      1.929     0.9885      1.143         55        640: 100% 69/69 [01:19<00:00,  1.15s/it]\n",
            "                 Class     Images  Instances      Box(P          R      mAP50  mAP50-95)     Mask(P          R      mAP50  mAP50-95): 100% 3/3 [00:05<00:00,  1.83s/it]\n",
            "                   all         90        444      0.659      0.616      0.641      0.463      0.645      0.595      0.614      0.409\n",
            "\n",
            "      Epoch    GPU_mem   box_loss   seg_loss   cls_loss   dfl_loss  Instances       Size\n",
            "       5/50      12.4G     0.7624      1.891      0.896      1.136         49        640: 100% 69/69 [01:18<00:00,  1.14s/it]\n",
            "                 Class     Images  Instances      Box(P          R      mAP50  mAP50-95)     Mask(P          R      mAP50  mAP50-95): 100% 3/3 [00:04<00:00,  1.59s/it]\n",
            "                   all         90        444      0.584      0.703      0.663      0.467      0.547      0.661      0.615      0.417\n",
            "\n",
            "      Epoch    GPU_mem   box_loss   seg_loss   cls_loss   dfl_loss  Instances       Size\n",
            "       6/50      12.3G     0.7338      1.834     0.8221      1.118         76        640: 100% 69/69 [01:19<00:00,  1.15s/it]\n",
            "                 Class     Images  Instances      Box(P          R      mAP50  mAP50-95)     Mask(P          R      mAP50  mAP50-95): 100% 3/3 [00:04<00:00,  1.49s/it]\n",
            "                   all         90        444      0.661      0.595      0.636      0.453      0.632      0.565      0.583      0.389\n",
            "\n",
            "      Epoch    GPU_mem   box_loss   seg_loss   cls_loss   dfl_loss  Instances       Size\n",
            "       7/50      12.5G     0.7251       1.74     0.7885      1.106         72        640: 100% 69/69 [01:18<00:00,  1.13s/it]\n",
            "                 Class     Images  Instances      Box(P          R      mAP50  mAP50-95)     Mask(P          R      mAP50  mAP50-95): 100% 3/3 [00:04<00:00,  1.38s/it]\n",
            "                   all         90        444      0.649      0.627      0.655      0.471      0.616      0.602      0.612      0.424\n",
            "\n",
            "      Epoch    GPU_mem   box_loss   seg_loss   cls_loss   dfl_loss  Instances       Size\n",
            "       8/50      12.4G     0.7138      1.659     0.7406      1.099         58        640: 100% 69/69 [01:19<00:00,  1.15s/it]\n",
            "                 Class     Images  Instances      Box(P          R      mAP50  mAP50-95)     Mask(P          R      mAP50  mAP50-95): 100% 3/3 [00:03<00:00,  1.18s/it]\n",
            "                   all         90        444      0.625      0.654       0.67      0.474      0.595      0.628       0.62      0.422\n",
            "\n",
            "      Epoch    GPU_mem   box_loss   seg_loss   cls_loss   dfl_loss  Instances       Size\n",
            "       9/50      12.3G     0.6886      1.601     0.7057      1.088         81        640: 100% 69/69 [01:19<00:00,  1.15s/it]\n",
            "                 Class     Images  Instances      Box(P          R      mAP50  mAP50-95)     Mask(P          R      mAP50  mAP50-95): 100% 3/3 [00:03<00:00,  1.19s/it]\n",
            "                   all         90        444      0.703       0.62      0.677      0.484      0.665       0.59       0.63      0.443\n",
            "\n",
            "      Epoch    GPU_mem   box_loss   seg_loss   cls_loss   dfl_loss  Instances       Size\n",
            "      10/50      12.6G     0.6752      1.568     0.6737      1.079         64        640: 100% 69/69 [01:19<00:00,  1.15s/it]\n",
            "                 Class     Images  Instances      Box(P          R      mAP50  mAP50-95)     Mask(P          R      mAP50  mAP50-95): 100% 3/3 [00:03<00:00,  1.15s/it]\n",
            "                   all         90        444      0.645      0.679       0.69      0.501      0.621      0.657      0.659      0.456\n",
            "\n",
            "      Epoch    GPU_mem   box_loss   seg_loss   cls_loss   dfl_loss  Instances       Size\n",
            "      11/50      12.4G      0.653      1.515      0.639      1.062        101        640: 100% 69/69 [01:18<00:00,  1.13s/it]\n",
            "                 Class     Images  Instances      Box(P          R      mAP50  mAP50-95)     Mask(P          R      mAP50  mAP50-95): 100% 3/3 [00:04<00:00,  1.51s/it]\n",
            "                   all         90        444      0.751      0.599      0.701      0.505       0.73      0.583      0.664       0.45\n",
            "\n",
            "      Epoch    GPU_mem   box_loss   seg_loss   cls_loss   dfl_loss  Instances       Size\n",
            "      12/50      12.3G     0.6552      1.502     0.6345      1.062         67        640: 100% 69/69 [01:19<00:00,  1.16s/it]\n",
            "                 Class     Images  Instances      Box(P          R      mAP50  mAP50-95)     Mask(P          R      mAP50  mAP50-95): 100% 3/3 [00:04<00:00,  1.49s/it]\n",
            "                   all         90        444      0.626      0.672      0.666      0.485      0.609      0.652      0.632      0.435\n",
            "\n",
            "      Epoch    GPU_mem   box_loss   seg_loss   cls_loss   dfl_loss  Instances       Size\n",
            "      13/50      12.3G     0.6344      1.415     0.6054      1.049         71        640: 100% 69/69 [01:18<00:00,  1.14s/it]\n",
            "                 Class     Images  Instances      Box(P          R      mAP50  mAP50-95)     Mask(P          R      mAP50  mAP50-95): 100% 3/3 [00:04<00:00,  1.52s/it]\n",
            "                   all         90        444        0.7      0.643      0.696       0.52      0.676      0.619      0.661      0.479\n",
            "\n",
            "      Epoch    GPU_mem   box_loss   seg_loss   cls_loss   dfl_loss  Instances       Size\n",
            "      14/50      12.6G     0.6092      1.382     0.5844      1.044         74        640: 100% 69/69 [01:19<00:00,  1.15s/it]\n",
            "                 Class     Images  Instances      Box(P          R      mAP50  mAP50-95)     Mask(P          R      mAP50  mAP50-95): 100% 3/3 [00:04<00:00,  1.43s/it]\n",
            "                   all         90        444      0.732      0.655      0.721      0.533      0.712      0.638       0.69      0.483\n",
            "\n",
            "      Epoch    GPU_mem   box_loss   seg_loss   cls_loss   dfl_loss  Instances       Size\n",
            "      15/50      12.4G     0.6053      1.337     0.5649      1.028         72        640: 100% 69/69 [01:19<00:00,  1.15s/it]\n",
            "                 Class     Images  Instances      Box(P          R      mAP50  mAP50-95)     Mask(P          R      mAP50  mAP50-95): 100% 3/3 [00:03<00:00,  1.27s/it]\n",
            "                   all         90        444      0.704      0.691      0.712      0.525      0.676      0.675      0.679      0.475\n",
            "\n",
            "      Epoch    GPU_mem   box_loss   seg_loss   cls_loss   dfl_loss  Instances       Size\n",
            "      16/50      12.2G      0.591      1.325     0.5478      1.019         81        640: 100% 69/69 [01:19<00:00,  1.15s/it]\n",
            "                 Class     Images  Instances      Box(P          R      mAP50  mAP50-95)     Mask(P          R      mAP50  mAP50-95): 100% 3/3 [00:03<00:00,  1.16s/it]\n",
            "                   all         90        444      0.735      0.643      0.685      0.499      0.715      0.621       0.65      0.454\n",
            "\n",
            "      Epoch    GPU_mem   box_loss   seg_loss   cls_loss   dfl_loss  Instances       Size\n",
            "      17/50      12.4G     0.5809      1.318     0.5369      1.016         69        640: 100% 69/69 [01:19<00:00,  1.15s/it]\n",
            "                 Class     Images  Instances      Box(P          R      mAP50  mAP50-95)     Mask(P          R      mAP50  mAP50-95): 100% 3/3 [00:03<00:00,  1.22s/it]\n",
            "                   all         90        444      0.733      0.616       0.66      0.492      0.717      0.599      0.625      0.448\n",
            "\n",
            "      Epoch    GPU_mem   box_loss   seg_loss   cls_loss   dfl_loss  Instances       Size\n",
            "      18/50      12.5G     0.5758      1.274     0.5157      1.013         44        640: 100% 69/69 [01:19<00:00,  1.15s/it]\n",
            "                 Class     Images  Instances      Box(P          R      mAP50  mAP50-95)     Mask(P          R      mAP50  mAP50-95): 100% 3/3 [00:03<00:00,  1.23s/it]\n",
            "                   all         90        444      0.706      0.737      0.748      0.567      0.696      0.723      0.721      0.514\n",
            "\n",
            "      Epoch    GPU_mem   box_loss   seg_loss   cls_loss   dfl_loss  Instances       Size\n",
            "      19/50      12.5G     0.5646      1.219     0.5018      1.009         57        640: 100% 69/69 [01:18<00:00,  1.14s/it]\n",
            "                 Class     Images  Instances      Box(P          R      mAP50  mAP50-95)     Mask(P          R      mAP50  mAP50-95): 100% 3/3 [00:03<00:00,  1.15s/it]\n",
            "                   all         90        444      0.718       0.65      0.699      0.523      0.686      0.626      0.661      0.474\n",
            "\n",
            "      Epoch    GPU_mem   box_loss   seg_loss   cls_loss   dfl_loss  Instances       Size\n",
            "      20/50      12.3G     0.5613      1.217     0.4925      1.002         96        640: 100% 69/69 [01:18<00:00,  1.14s/it]\n",
            "                 Class     Images  Instances      Box(P          R      mAP50  mAP50-95)     Mask(P          R      mAP50  mAP50-95): 100% 3/3 [00:03<00:00,  1.26s/it]\n",
            "                   all         90        444      0.739      0.638      0.709      0.535      0.723      0.624      0.683      0.475\n",
            "\n",
            "      Epoch    GPU_mem   box_loss   seg_loss   cls_loss   dfl_loss  Instances       Size\n",
            "      21/50      12.3G     0.5442      1.219     0.4901      1.003         55        640: 100% 69/69 [01:19<00:00,  1.15s/it]\n",
            "                 Class     Images  Instances      Box(P          R      mAP50  mAP50-95)     Mask(P          R      mAP50  mAP50-95): 100% 3/3 [00:03<00:00,  1.09s/it]\n",
            "                   all         90        444      0.673      0.688       0.69       0.51       0.69      0.655      0.665      0.468\n",
            "\n",
            "      Epoch    GPU_mem   box_loss   seg_loss   cls_loss   dfl_loss  Instances       Size\n",
            "      22/50      12.4G     0.5439      1.188     0.4756     0.9972         58        640: 100% 69/69 [01:18<00:00,  1.14s/it]\n",
            "                 Class     Images  Instances      Box(P          R      mAP50  mAP50-95)     Mask(P          R      mAP50  mAP50-95): 100% 3/3 [00:03<00:00,  1.18s/it]\n",
            "                   all         90        444      0.728      0.627      0.719      0.545      0.717      0.617      0.693       0.49\n",
            "\n",
            "      Epoch    GPU_mem   box_loss   seg_loss   cls_loss   dfl_loss  Instances       Size\n",
            "      23/50      12.2G     0.5237      1.143     0.4563     0.9806         44        640: 100% 69/69 [01:20<00:00,  1.17s/it]\n",
            "                 Class     Images  Instances      Box(P          R      mAP50  mAP50-95)     Mask(P          R      mAP50  mAP50-95): 100% 3/3 [00:03<00:00,  1.20s/it]\n",
            "                   all         90        444      0.718      0.623       0.67      0.499      0.726      0.579      0.622      0.439\n",
            "\n",
            "      Epoch    GPU_mem   box_loss   seg_loss   cls_loss   dfl_loss  Instances       Size\n",
            "      24/50      12.5G      0.521      1.119     0.4549     0.9764         50        640: 100% 69/69 [01:20<00:00,  1.17s/it]\n",
            "                 Class     Images  Instances      Box(P          R      mAP50  mAP50-95)     Mask(P          R      mAP50  mAP50-95): 100% 3/3 [00:04<00:00,  1.66s/it]\n",
            "                   all         90        444      0.774      0.706      0.753      0.561       0.74      0.689      0.717      0.507\n",
            "\n",
            "      Epoch    GPU_mem   box_loss   seg_loss   cls_loss   dfl_loss  Instances       Size\n",
            "      25/50      12.4G     0.5102      1.097     0.4423     0.9769         80        640: 100% 69/69 [01:21<00:00,  1.18s/it]\n",
            "                 Class     Images  Instances      Box(P          R      mAP50  mAP50-95)     Mask(P          R      mAP50  mAP50-95): 100% 3/3 [00:04<00:00,  1.39s/it]\n",
            "                   all         90        444      0.758      0.642      0.708       0.53       0.74      0.621      0.667      0.486\n",
            "\n",
            "      Epoch    GPU_mem   box_loss   seg_loss   cls_loss   dfl_loss  Instances       Size\n",
            "      26/50      12.4G     0.4979      1.045     0.4199     0.9642         86        640: 100% 69/69 [01:19<00:00,  1.15s/it]\n",
            "                 Class     Images  Instances      Box(P          R      mAP50  mAP50-95)     Mask(P          R      mAP50  mAP50-95): 100% 3/3 [00:03<00:00,  1.29s/it]\n",
            "                   all         90        444      0.764      0.661      0.726      0.545      0.742      0.638      0.693      0.499\n",
            "\n",
            "      Epoch    GPU_mem   box_loss   seg_loss   cls_loss   dfl_loss  Instances       Size\n",
            "      27/50      12.5G     0.5019      1.072     0.4299     0.9725         64        640: 100% 69/69 [01:20<00:00,  1.17s/it]\n",
            "                 Class     Images  Instances      Box(P          R      mAP50  mAP50-95)     Mask(P          R      mAP50  mAP50-95): 100% 3/3 [00:03<00:00,  1.26s/it]\n",
            "                   all         90        444      0.745      0.605      0.676      0.512      0.755      0.576      0.639      0.467\n",
            "\n",
            "      Epoch    GPU_mem   box_loss   seg_loss   cls_loss   dfl_loss  Instances       Size\n",
            "      28/50      12.3G     0.4869      1.066     0.4133     0.9588         65        640: 100% 69/69 [01:20<00:00,  1.17s/it]\n",
            "                 Class     Images  Instances      Box(P          R      mAP50  mAP50-95)     Mask(P          R      mAP50  mAP50-95): 100% 3/3 [00:03<00:00,  1.17s/it]\n",
            "                   all         90        444      0.694        0.7      0.706      0.536      0.679      0.679      0.679      0.487\n",
            "\n",
            "      Epoch    GPU_mem   box_loss   seg_loss   cls_loss   dfl_loss  Instances       Size\n",
            "      29/50      12.3G     0.4904        1.1      0.411     0.9689         71        640: 100% 69/69 [01:19<00:00,  1.15s/it]\n",
            "                 Class     Images  Instances      Box(P          R      mAP50  mAP50-95)     Mask(P          R      mAP50  mAP50-95): 100% 3/3 [00:03<00:00,  1.27s/it]\n",
            "                   all         90        444      0.689      0.696      0.712      0.538      0.688      0.667       0.68      0.486\n",
            "\n",
            "      Epoch    GPU_mem   box_loss   seg_loss   cls_loss   dfl_loss  Instances       Size\n",
            "      30/50      12.2G     0.4813      1.008     0.3966     0.9583         68        640: 100% 69/69 [01:19<00:00,  1.16s/it]\n",
            "                 Class     Images  Instances      Box(P          R      mAP50  mAP50-95)     Mask(P          R      mAP50  mAP50-95): 100% 3/3 [00:03<00:00,  1.15s/it]\n",
            "                   all         90        444      0.724      0.632      0.696      0.529      0.708      0.618      0.667      0.483\n",
            "\n",
            "      Epoch    GPU_mem   box_loss   seg_loss   cls_loss   dfl_loss  Instances       Size\n",
            "      31/50      12.4G     0.4711      1.022      0.397     0.9581         52        640: 100% 69/69 [01:20<00:00,  1.16s/it]\n",
            "                 Class     Images  Instances      Box(P          R      mAP50  mAP50-95)     Mask(P          R      mAP50  mAP50-95): 100% 3/3 [00:03<00:00,  1.05s/it]\n",
            "                   all         90        444      0.704      0.623      0.671      0.519      0.698      0.611      0.644       0.47\n",
            "\n",
            "      Epoch    GPU_mem   box_loss   seg_loss   cls_loss   dfl_loss  Instances       Size\n",
            "      32/50      12.4G     0.4649     0.9795     0.3808     0.9496         56        640: 100% 69/69 [01:20<00:00,  1.16s/it]\n",
            "                 Class     Images  Instances      Box(P          R      mAP50  mAP50-95)     Mask(P          R      mAP50  mAP50-95): 100% 3/3 [00:03<00:00,  1.24s/it]\n",
            "                   all         90        444      0.691       0.69      0.693      0.536       0.67       0.67      0.659      0.479\n",
            "\n",
            "      Epoch    GPU_mem   box_loss   seg_loss   cls_loss   dfl_loss  Instances       Size\n",
            "      33/50      12.4G     0.4535     0.9711     0.3733     0.9467         49        640: 100% 69/69 [01:18<00:00,  1.14s/it]\n",
            "                 Class     Images  Instances      Box(P          R      mAP50  mAP50-95)     Mask(P          R      mAP50  mAP50-95): 100% 3/3 [00:03<00:00,  1.26s/it]\n",
            "                   all         90        444      0.741      0.654      0.681      0.525       0.72      0.636      0.652      0.472\n",
            "\n",
            "      Epoch    GPU_mem   box_loss   seg_loss   cls_loss   dfl_loss  Instances       Size\n",
            "      34/50      12.2G     0.4446     0.9365     0.3637     0.9409         44        640: 100% 69/69 [01:19<00:00,  1.15s/it]\n",
            "                 Class     Images  Instances      Box(P          R      mAP50  mAP50-95)     Mask(P          R      mAP50  mAP50-95): 100% 3/3 [00:03<00:00,  1.26s/it]\n",
            "                   all         90        444      0.723      0.686      0.701      0.548      0.709      0.666      0.668      0.496\n",
            "\n",
            "      Epoch    GPU_mem   box_loss   seg_loss   cls_loss   dfl_loss  Instances       Size\n",
            "      35/50      12.4G     0.4381      0.921     0.3513     0.9362         71        640: 100% 69/69 [01:20<00:00,  1.16s/it]\n",
            "                 Class     Images  Instances      Box(P          R      mAP50  mAP50-95)     Mask(P          R      mAP50  mAP50-95): 100% 3/3 [00:03<00:00,  1.17s/it]\n",
            "                   all         90        444      0.745      0.639       0.71      0.552      0.735      0.622      0.682      0.498\n",
            "\n",
            "      Epoch    GPU_mem   box_loss   seg_loss   cls_loss   dfl_loss  Instances       Size\n",
            "      36/50      12.4G     0.4312     0.9221     0.3465     0.9355         60        640: 100% 69/69 [01:19<00:00,  1.15s/it]\n",
            "                 Class     Images  Instances      Box(P          R      mAP50  mAP50-95)     Mask(P          R      mAP50  mAP50-95): 100% 3/3 [00:03<00:00,  1.19s/it]\n",
            "                   all         90        444      0.777      0.605      0.689      0.532      0.754      0.585      0.656      0.485\n",
            "\n",
            "      Epoch    GPU_mem   box_loss   seg_loss   cls_loss   dfl_loss  Instances       Size\n",
            "      37/50      12.3G     0.4234      0.845     0.3329     0.9325         79        640: 100% 69/69 [01:19<00:00,  1.15s/it]\n",
            "                 Class     Images  Instances      Box(P          R      mAP50  mAP50-95)     Mask(P          R      mAP50  mAP50-95): 100% 3/3 [00:03<00:00,  1.26s/it]\n",
            "                   all         90        444      0.708      0.662      0.687      0.537      0.694      0.647      0.664       0.49\n",
            "\n",
            "      Epoch    GPU_mem   box_loss   seg_loss   cls_loss   dfl_loss  Instances       Size\n",
            "      38/50      12.2G     0.4149     0.8593     0.3326     0.9298         72        640: 100% 69/69 [01:17<00:00,  1.13s/it]\n",
            "                 Class     Images  Instances      Box(P          R      mAP50  mAP50-95)     Mask(P          R      mAP50  mAP50-95): 100% 3/3 [00:03<00:00,  1.30s/it]\n",
            "                   all         90        444      0.724      0.649      0.696      0.539      0.701      0.629      0.663      0.488\n",
            "\n",
            "      Epoch    GPU_mem   box_loss   seg_loss   cls_loss   dfl_loss  Instances       Size\n",
            "      39/50      12.5G     0.4047     0.8092      0.314     0.9201         71        640: 100% 69/69 [01:21<00:00,  1.18s/it]\n",
            "                 Class     Images  Instances      Box(P          R      mAP50  mAP50-95)     Mask(P          R      mAP50  mAP50-95): 100% 3/3 [00:03<00:00,  1.29s/it]\n",
            "                   all         90        444      0.703      0.668      0.708      0.551       0.69      0.653      0.682      0.507\n",
            "\n",
            "      Epoch    GPU_mem   box_loss   seg_loss   cls_loss   dfl_loss  Instances       Size\n",
            "      40/50      12.4G     0.4094     0.8321      0.322     0.9238         76        640: 100% 69/69 [01:18<00:00,  1.14s/it]\n",
            "                 Class     Images  Instances      Box(P          R      mAP50  mAP50-95)     Mask(P          R      mAP50  mAP50-95): 100% 3/3 [00:03<00:00,  1.16s/it]\n",
            "                   all         90        444      0.727      0.605      0.679      0.534      0.712      0.589      0.652      0.487\n",
            "\n",
            "      Epoch    GPU_mem   box_loss   seg_loss   cls_loss   dfl_loss  Instances       Size\n",
            "      41/50      12.2G     0.3988     0.8271     0.3099     0.9157         65        640: 100% 69/69 [01:20<00:00,  1.17s/it]\n",
            "                 Class     Images  Instances      Box(P          R      mAP50  mAP50-95)     Mask(P          R      mAP50  mAP50-95): 100% 3/3 [00:03<00:00,  1.27s/it]\n",
            "                   all         90        444      0.764      0.601      0.695      0.537      0.717      0.603      0.656      0.491\n",
            "\n",
            "      Epoch    GPU_mem   box_loss   seg_loss   cls_loss   dfl_loss  Instances       Size\n",
            "      42/50      12.7G     0.3971      0.795     0.3091     0.9189         73        640: 100% 69/69 [01:19<00:00,  1.15s/it]\n",
            "                 Class     Images  Instances      Box(P          R      mAP50  mAP50-95)     Mask(P          R      mAP50  mAP50-95): 100% 3/3 [00:03<00:00,  1.32s/it]\n",
            "                   all         90        444      0.781      0.608      0.701      0.548       0.78      0.586      0.669      0.504\n",
            "\n",
            "      Epoch    GPU_mem   box_loss   seg_loss   cls_loss   dfl_loss  Instances       Size\n",
            "      43/50      12.6G     0.3908      0.799     0.3077      0.917         47        640: 100% 69/69 [01:20<00:00,  1.17s/it]\n",
            "                 Class     Images  Instances      Box(P          R      mAP50  mAP50-95)     Mask(P          R      mAP50  mAP50-95): 100% 3/3 [00:04<00:00,  1.43s/it]\n",
            "                   all         90        444      0.678      0.654      0.681      0.527       0.73      0.581      0.646      0.484\n",
            "\n",
            "      Epoch    GPU_mem   box_loss   seg_loss   cls_loss   dfl_loss  Instances       Size\n",
            "      44/50      12.5G     0.3836     0.7938     0.3007     0.9118         59        640: 100% 69/69 [01:19<00:00,  1.15s/it]\n",
            "                 Class     Images  Instances      Box(P          R      mAP50  mAP50-95)     Mask(P          R      mAP50  mAP50-95): 100% 3/3 [00:05<00:00,  1.71s/it]\n",
            "                   all         90        444      0.701      0.682      0.696      0.542      0.687      0.657      0.663      0.494\n",
            "\n",
            "      Epoch    GPU_mem   box_loss   seg_loss   cls_loss   dfl_loss  Instances       Size\n",
            "      45/50      12.4G     0.3711     0.7344      0.285     0.9094         49        640: 100% 69/69 [01:21<00:00,  1.18s/it]\n",
            "                 Class     Images  Instances      Box(P          R      mAP50  mAP50-95)     Mask(P          R      mAP50  mAP50-95): 100% 3/3 [00:04<00:00,  1.43s/it]\n",
            "                   all         90        444      0.717      0.638      0.698      0.547      0.695      0.619      0.669      0.495\n",
            "\n",
            "      Epoch    GPU_mem   box_loss   seg_loss   cls_loss   dfl_loss  Instances       Size\n",
            "      46/50      12.5G     0.3745     0.7623     0.2839     0.9113         59        640: 100% 69/69 [01:20<00:00,  1.17s/it]\n",
            "                 Class     Images  Instances      Box(P          R      mAP50  mAP50-95)     Mask(P          R      mAP50  mAP50-95): 100% 3/3 [00:03<00:00,  1.20s/it]\n",
            "                   all         90        444      0.797      0.598      0.706      0.553      0.776       0.58      0.679      0.504\n",
            "\n",
            "      Epoch    GPU_mem   box_loss   seg_loss   cls_loss   dfl_loss  Instances       Size\n",
            "      47/50      12.3G     0.3668     0.7437     0.2782     0.9078         48        640: 100% 69/69 [01:19<00:00,  1.16s/it]\n",
            "                 Class     Images  Instances      Box(P          R      mAP50  mAP50-95)     Mask(P          R      mAP50  mAP50-95): 100% 3/3 [00:03<00:00,  1.19s/it]\n",
            "                   all         90        444      0.746      0.654      0.699      0.552      0.731      0.632      0.669      0.503\n",
            "\n",
            "      Epoch    GPU_mem   box_loss   seg_loss   cls_loss   dfl_loss  Instances       Size\n",
            "      48/50      12.4G     0.3594     0.7279     0.2749     0.9041        198        640:  46% 32/69 [00:38<00:43,  1.18s/it]"
          ]
        }
      ]
    },
    {
      "cell_type": "code",
      "source": [
        "#confusion matrix\n",
        "display(Image(filename=f'/content/{PROJECT_NAME}/{RUN_NAME}/confusion_matrix.png'))\n",
        "print(\"\\n\")"
      ],
      "metadata": {
        "id": "Xub6krqMsf57"
      },
      "execution_count": null,
      "outputs": []
    },
    {
      "cell_type": "code",
      "source": [
        "#training metrics\n",
        "display(Image(filename=f'/content/{PROJECT_NAME}/{RUN_NAME}/results.png'))\n",
        "print(\"\\n\")"
      ],
      "metadata": {
        "id": "HElCh6QftJXz"
      },
      "execution_count": null,
      "outputs": []
    },
    {
      "cell_type": "code",
      "source": [
        "for imageName in glob.glob(f'/content/{PROJECT_NAME}/{RUN_NAME}/train_*.jpg')[:2]:\n",
        "      display(Image(filename=imageName))\n",
        "      print(\"\\n\")\n",
        "\n"
      ],
      "metadata": {
        "id": "QPLJEpqXppWy"
      },
      "execution_count": null,
      "outputs": []
    },
    {
      "cell_type": "code",
      "source": [
        "for imageName in glob.glob(f'/content/{PROJECT_NAME}/{RUN_NAME}/val_*.jpg')[:2]:\n",
        "      display(Image(filename=imageName))\n",
        "      print(\"\\n\")"
      ],
      "metadata": {
        "id": "4q-4bZ6LrQX0"
      },
      "execution_count": null,
      "outputs": []
    },
    {
      "cell_type": "markdown",
      "source": [
        "# 5. Predict\n",
        "Predict a model's accuracy on the dataset's `test` splits. "
      ],
      "metadata": {
        "id": "VF17iJXgtChp"
      }
    },
    {
      "cell_type": "code",
      "source": [
        "BEST_WEIGHTS_PATH=f'/content/{PROJECT_NAME}/{RUN_NAME}/weights/best.pt'\n",
        "TEST_SOURCE_PATH=f'/content/{DATA_FOLDER}/test/images'\n",
        "\n",
        "!yolo task=$TASK \\\n",
        "      mode=predict \\\n",
        "      model= $BEST_WEIGHTS_PATH \\\n",
        "      source= $TEST_SOURCE_PATH \\\n",
        "      show=False \\\n",
        "      imgsz=$IMGSZ \\\n",
        "      project=$PROJECT_NAME \\\n",
        "      name=$RUN_NAME \\\n",
        "      hide_labels=True \\\n",
        "      conf=0.40 \\\n",
        "      save=True \\\n",
        "      box=False"
      ],
      "metadata": {
        "id": "4XDCTSF8tdLz"
      },
      "execution_count": null,
      "outputs": []
    },
    {
      "cell_type": "code",
      "source": [
        "\n",
        "for imageName in glob.glob(f'/content/{PROJECT_NAME}/{RUN_NAME}/*.jpg')[:5]:\n",
        "      display(Image(filename=imageName))\n",
        "      print(\"\\n\")"
      ],
      "metadata": {
        "id": "5Q33ZXT-t9A1"
      },
      "execution_count": null,
      "outputs": []
    },
    {
      "cell_type": "markdown",
      "source": [],
      "metadata": {
        "id": "kpiRmv66gOZK"
      }
    },
    {
      "cell_type": "markdown",
      "source": [
        "# 4. Export\n",
        "\n",
        "Export a YOLOv8 model to any supported format with the `format` argument, i.e. `format=onnx`.\n",
        "\n",
        "- 💡 ProTip: Export to [ONNX](https://onnx.ai/) or [OpenVINO](https://docs.openvino.ai/latest/index.html) for up to 3x CPU speedup.  \n",
        "- 💡 ProTip: Export to [TensorRT](https://developer.nvidia.com/tensorrt) for up to 5x GPU speedup.\n",
        "\n",
        "\n",
        "| Format                                                                     | `format=`          | Model                     |\n",
        "|----------------------------------------------------------------------------|--------------------|---------------------------|\n",
        "| [PyTorch](https://pytorch.org/)                                            | -                  | `yolov8n.pt`              |\n",
        "| [TorchScript](https://pytorch.org/docs/stable/jit.html)                    | `torchscript`      | `yolov8n.torchscript`     |\n",
        "| [ONNX](https://onnx.ai/)                                                   | `onnx`             | `yolov8n.onnx`            |\n",
        "| [OpenVINO](https://docs.openvino.ai/latest/index.html)                     | `openvino`         | `yolov8n_openvino_model/` |\n",
        "| [TensorRT](https://developer.nvidia.com/tensorrt)                          | `engine`           | `yolov8n.engine`          |\n",
        "| [CoreML](https://github.com/apple/coremltools)                             | `coreml`           | `yolov8n.mlmodel`         |\n",
        "| [TensorFlow SavedModel](https://www.tensorflow.org/guide/saved_model)      | `saved_model`      | `yolov8n_saved_model/`    |\n",
        "| [TensorFlow GraphDef](https://www.tensorflow.org/api_docs/python/tf/Graph) | `pb`               | `yolov8n.pb`              |\n",
        "| [TensorFlow Lite](https://www.tensorflow.org/lite)                         | `tflite`           | `yolov8n.tflite`          |\n",
        "| [TensorFlow Edge TPU](https://coral.ai/docs/edgetpu/models-intro/)         | `edgetpu`          | `yolov8n_edgetpu.tflite`  |\n",
        "| [TensorFlow.js](https://www.tensorflow.org/js)                             | `tfjs`             | `yolov8n_web_model/`      |\n",
        "| [PaddlePaddle](https://github.com/PaddlePaddle)                            | `paddle`           | `yolov8n_paddle_model/`   |\n",
        "\n"
      ],
      "metadata": {
        "id": "nPZZeNrLCQG6"
      }
    },
    {
      "cell_type": "code",
      "source": [
        "!yolo export model=$BEST_WEIGHTS_PATH format=onnx"
      ],
      "metadata": {
        "id": "CYIjW4igCjqD"
      },
      "execution_count": null,
      "outputs": []
    },
    {
      "cell_type": "code",
      "source": [
        "#Close clearML experiment\n",
        "task.close()"
      ],
      "metadata": {
        "id": "DIGEnki6uEzK"
      },
      "execution_count": null,
      "outputs": []
    }
  ]
}